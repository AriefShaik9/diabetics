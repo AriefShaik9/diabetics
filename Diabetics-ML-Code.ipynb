{
 "cells": [
  {
   "cell_type": "code",
   "execution_count": 44,
   "id": "792b582a",
   "metadata": {},
   "outputs": [],
   "source": [
    "import pandas as pd\n",
    "import sklearn\n",
    "from sklearn.model_selection import train_test_split\n",
    "from sklearn.linear_model import LogisticRegression\n",
    "import warnings\n",
    "warnings.filterwarnings('ignore')\n",
    "from sklearn.metrics import confusion_matrix,precision_score,recall_score,f1_score,roc_auc_score\n",
    "import matplotlib.pyplot as plt"
   ]
  },
  {
   "cell_type": "code",
   "execution_count": 12,
   "id": "1b72b409",
   "metadata": {},
   "outputs": [],
   "source": [
    "diabetics_df=pd.read_csv('Diabetics.csv')\n",
    "diabetics_df\n",
    "y=diabetics_df['Outcome']\n",
    "diabetics_df.drop(columns='Outcome',inplace=True)  "
   ]
  },
  {
   "cell_type": "code",
   "execution_count": 45,
   "id": "f5260bdd",
   "metadata": {},
   "outputs": [
    {
     "data": {
      "text/html": [
       "<div>\n",
       "<style scoped>\n",
       "    .dataframe tbody tr th:only-of-type {\n",
       "        vertical-align: middle;\n",
       "    }\n",
       "\n",
       "    .dataframe tbody tr th {\n",
       "        vertical-align: top;\n",
       "    }\n",
       "\n",
       "    .dataframe thead th {\n",
       "        text-align: right;\n",
       "    }\n",
       "</style>\n",
       "<table border=\"1\" class=\"dataframe\">\n",
       "  <thead>\n",
       "    <tr style=\"text-align: right;\">\n",
       "      <th></th>\n",
       "      <th>Pregnancies</th>\n",
       "      <th>Glucose</th>\n",
       "      <th>BloodPressure</th>\n",
       "      <th>SkinThickness</th>\n",
       "      <th>Insulin</th>\n",
       "      <th>BMI</th>\n",
       "      <th>DiabetesPedigreeFunction</th>\n",
       "      <th>Age</th>\n",
       "    </tr>\n",
       "  </thead>\n",
       "  <tbody>\n",
       "    <tr>\n",
       "      <th>60</th>\n",
       "      <td>2</td>\n",
       "      <td>84</td>\n",
       "      <td>0</td>\n",
       "      <td>0</td>\n",
       "      <td>0</td>\n",
       "      <td>0.0</td>\n",
       "      <td>0.304</td>\n",
       "      <td>21</td>\n",
       "    </tr>\n",
       "    <tr>\n",
       "      <th>618</th>\n",
       "      <td>9</td>\n",
       "      <td>112</td>\n",
       "      <td>82</td>\n",
       "      <td>24</td>\n",
       "      <td>0</td>\n",
       "      <td>28.2</td>\n",
       "      <td>1.282</td>\n",
       "      <td>50</td>\n",
       "    </tr>\n",
       "    <tr>\n",
       "      <th>346</th>\n",
       "      <td>1</td>\n",
       "      <td>139</td>\n",
       "      <td>46</td>\n",
       "      <td>19</td>\n",
       "      <td>83</td>\n",
       "      <td>28.7</td>\n",
       "      <td>0.654</td>\n",
       "      <td>22</td>\n",
       "    </tr>\n",
       "    <tr>\n",
       "      <th>294</th>\n",
       "      <td>0</td>\n",
       "      <td>161</td>\n",
       "      <td>50</td>\n",
       "      <td>0</td>\n",
       "      <td>0</td>\n",
       "      <td>21.9</td>\n",
       "      <td>0.254</td>\n",
       "      <td>65</td>\n",
       "    </tr>\n",
       "    <tr>\n",
       "      <th>231</th>\n",
       "      <td>6</td>\n",
       "      <td>134</td>\n",
       "      <td>80</td>\n",
       "      <td>37</td>\n",
       "      <td>370</td>\n",
       "      <td>46.2</td>\n",
       "      <td>0.238</td>\n",
       "      <td>46</td>\n",
       "    </tr>\n",
       "    <tr>\n",
       "      <th>...</th>\n",
       "      <td>...</td>\n",
       "      <td>...</td>\n",
       "      <td>...</td>\n",
       "      <td>...</td>\n",
       "      <td>...</td>\n",
       "      <td>...</td>\n",
       "      <td>...</td>\n",
       "      <td>...</td>\n",
       "    </tr>\n",
       "    <tr>\n",
       "      <th>71</th>\n",
       "      <td>5</td>\n",
       "      <td>139</td>\n",
       "      <td>64</td>\n",
       "      <td>35</td>\n",
       "      <td>140</td>\n",
       "      <td>28.6</td>\n",
       "      <td>0.411</td>\n",
       "      <td>26</td>\n",
       "    </tr>\n",
       "    <tr>\n",
       "      <th>106</th>\n",
       "      <td>1</td>\n",
       "      <td>96</td>\n",
       "      <td>122</td>\n",
       "      <td>0</td>\n",
       "      <td>0</td>\n",
       "      <td>22.4</td>\n",
       "      <td>0.207</td>\n",
       "      <td>27</td>\n",
       "    </tr>\n",
       "    <tr>\n",
       "      <th>270</th>\n",
       "      <td>10</td>\n",
       "      <td>101</td>\n",
       "      <td>86</td>\n",
       "      <td>37</td>\n",
       "      <td>0</td>\n",
       "      <td>45.6</td>\n",
       "      <td>1.136</td>\n",
       "      <td>38</td>\n",
       "    </tr>\n",
       "    <tr>\n",
       "      <th>435</th>\n",
       "      <td>0</td>\n",
       "      <td>141</td>\n",
       "      <td>0</td>\n",
       "      <td>0</td>\n",
       "      <td>0</td>\n",
       "      <td>42.4</td>\n",
       "      <td>0.205</td>\n",
       "      <td>29</td>\n",
       "    </tr>\n",
       "    <tr>\n",
       "      <th>102</th>\n",
       "      <td>0</td>\n",
       "      <td>125</td>\n",
       "      <td>96</td>\n",
       "      <td>0</td>\n",
       "      <td>0</td>\n",
       "      <td>22.5</td>\n",
       "      <td>0.262</td>\n",
       "      <td>21</td>\n",
       "    </tr>\n",
       "  </tbody>\n",
       "</table>\n",
       "<p>614 rows × 8 columns</p>\n",
       "</div>"
      ],
      "text/plain": [
       "     Pregnancies  Glucose  BloodPressure  SkinThickness  Insulin   BMI  \\\n",
       "60             2       84              0              0        0   0.0   \n",
       "618            9      112             82             24        0  28.2   \n",
       "346            1      139             46             19       83  28.7   \n",
       "294            0      161             50              0        0  21.9   \n",
       "231            6      134             80             37      370  46.2   \n",
       "..           ...      ...            ...            ...      ...   ...   \n",
       "71             5      139             64             35      140  28.6   \n",
       "106            1       96            122              0        0  22.4   \n",
       "270           10      101             86             37        0  45.6   \n",
       "435            0      141              0              0        0  42.4   \n",
       "102            0      125             96              0        0  22.5   \n",
       "\n",
       "     DiabetesPedigreeFunction  Age  \n",
       "60                      0.304   21  \n",
       "618                     1.282   50  \n",
       "346                     0.654   22  \n",
       "294                     0.254   65  \n",
       "231                     0.238   46  \n",
       "..                        ...  ...  \n",
       "71                      0.411   26  \n",
       "106                     0.207   27  \n",
       "270                     1.136   38  \n",
       "435                     0.205   29  \n",
       "102                     0.262   21  \n",
       "\n",
       "[614 rows x 8 columns]"
      ]
     },
     "execution_count": 45,
     "metadata": {},
     "output_type": "execute_result"
    }
   ],
   "source": [
    "# Train - Test Split \n",
    "X_train,X_test,y_train,y_test=train_test_split(diabetics_df,y,test_size=0.2,random_state=42) \n",
    "X_train\n"
   ]
  },
  {
   "cell_type": "code",
   "execution_count": 46,
   "id": "d2a1c774",
   "metadata": {
    "scrolled": true
   },
   "outputs": [
    {
     "data": {
      "text/plain": [
       "668    0\n",
       "324    0\n",
       "624    0\n",
       "690    0\n",
       "473    0\n",
       "      ..\n",
       "355    1\n",
       "534    0\n",
       "344    0\n",
       "296    1\n",
       "462    0\n",
       "Name: Outcome, Length: 154, dtype: int64"
      ]
     },
     "execution_count": 46,
     "metadata": {},
     "output_type": "execute_result"
    }
   ],
   "source": [
    "# object Oriented Programming\n",
    "logreg=LogisticRegression()    # Create an Object for a class\n",
    "logreg.fit(X_train,y_train)\n",
    "y_test_pred=logreg.predict(X_test)\n",
    "y_test # actuals for the test data\n",
    "y_test_pred # predictions of the test data\n",
    "y_train_pred=logreg.predict(X_train) # predictions for the train data\n",
    "y_test # actuals for the test data"
   ]
  },
  {
   "cell_type": "code",
   "execution_count": 43,
   "id": "ddc6c042",
   "metadata": {},
   "outputs": [
    {
     "data": {
      "text/plain": [
       "(array([0.        , 0.        , 0.        , 0.01010101, 0.01010101,\n",
       "        0.02020202, 0.02020202, 0.04040404, 0.04040404, 0.05050505,\n",
       "        0.05050505, 0.06060606, 0.06060606, 0.07070707, 0.07070707,\n",
       "        0.08080808, 0.08080808, 0.09090909, 0.09090909, 0.1010101 ,\n",
       "        0.1010101 , 0.14141414, 0.14141414, 0.17171717, 0.17171717,\n",
       "        0.18181818, 0.18181818, 0.25252525, 0.25252525, 0.27272727,\n",
       "        0.27272727, 0.33333333, 0.33333333, 0.35353535, 0.35353535,\n",
       "        0.41414141, 0.41414141, 0.44444444, 0.44444444, 0.46464646,\n",
       "        0.46464646, 0.54545455, 0.54545455, 0.55555556, 0.55555556,\n",
       "        0.56565657, 0.56565657, 0.5959596 , 0.5959596 , 0.63636364,\n",
       "        0.63636364, 0.8989899 , 0.8989899 , 1.        ]),\n",
       " array([0.        , 0.01818182, 0.03636364, 0.03636364, 0.07272727,\n",
       "        0.07272727, 0.32727273, 0.32727273, 0.43636364, 0.43636364,\n",
       "        0.45454545, 0.45454545, 0.50909091, 0.50909091, 0.52727273,\n",
       "        0.52727273, 0.54545455, 0.54545455, 0.56363636, 0.56363636,\n",
       "        0.6       , 0.6       , 0.63636364, 0.63636364, 0.65454545,\n",
       "        0.65454545, 0.67272727, 0.67272727, 0.69090909, 0.69090909,\n",
       "        0.70909091, 0.70909091, 0.74545455, 0.74545455, 0.76363636,\n",
       "        0.76363636, 0.85454545, 0.85454545, 0.87272727, 0.87272727,\n",
       "        0.89090909, 0.89090909, 0.90909091, 0.90909091, 0.92727273,\n",
       "        0.92727273, 0.94545455, 0.94545455, 0.96363636, 0.96363636,\n",
       "        0.98181818, 0.98181818, 1.        , 1.        ]),\n",
       " array([1.96995253, 0.96995253, 0.96784087, 0.95262951, 0.90274516,\n",
       "        0.89278549, 0.76720313, 0.76183767, 0.73267074, 0.73016903,\n",
       "        0.72501866, 0.71918132, 0.68719848, 0.67463722, 0.65606071,\n",
       "        0.65307239, 0.65255103, 0.64954278, 0.63889974, 0.63503725,\n",
       "        0.60862518, 0.5709789 , 0.54803217, 0.54111359, 0.53251601,\n",
       "        0.52026104, 0.50750972, 0.43189654, 0.42429904, 0.4144824 ,\n",
       "        0.38630037, 0.34689079, 0.32743791, 0.30496944, 0.30483939,\n",
       "        0.26089722, 0.24285397, 0.23112025, 0.22960103, 0.21936977,\n",
       "        0.20329966, 0.16437009, 0.15837111, 0.15724625, 0.15188677,\n",
       "        0.14277775, 0.14274197, 0.13152093, 0.12998724, 0.121865  ,\n",
       "        0.1166388 , 0.04342722, 0.04262148, 0.00444186]))"
      ]
     },
     "execution_count": 43,
     "metadata": {},
     "output_type": "execute_result"
    }
   ],
   "source": [
    "pos_probabs=logreg.predict_proba(X_test)[::,1]\n",
    "pos_probabs\n",
    "fpr,tpr,thresholds=roc_curve(y_test,pos_probabs)\n",
    "fpr,tpr,thresholds"
   ]
  },
  {
   "cell_type": "code",
   "execution_count": 18,
   "id": "dd09eb1b",
   "metadata": {},
   "outputs": [
    {
     "data": {
      "text/plain": [
       "0.6548672566371682"
      ]
     },
     "execution_count": 18,
     "metadata": {},
     "output_type": "execute_result"
    }
   ],
   "source": [
    "pd.DataFrame({'test-actuals':y_test,'test_pred':y_test_pred})\n",
    "confusion_matrix(y_test,y_test_pred)\n",
    "precision_score(y_test,y_test_pred)\n",
    "recall_score(y_test,y_test_pred)\n",
    "f1_score(y_test,y_test_pred)\n"
   ]
  },
  {
   "cell_type": "code",
   "execution_count": 42,
   "id": "cc85f872",
   "metadata": {},
   "outputs": [
    {
     "data": {
      "text/plain": [
       "0.8148760330578513"
      ]
     },
     "execution_count": 42,
     "metadata": {},
     "output_type": "execute_result"
    },
    {
     "data": {
      "image/png": "[encoded data removed]",
      "text/plain": [
       "<Figure size 432x288 with 1 Axes>"
      ]
     },
     "metadata": {
      "needs_background": "light"
     },
     "output_type": "display_data"
    }
   ],
   "source": [
    "plt.plot(fpr,tpr)\n",
    "plt.xlabel('False Positive Rate')\n",
    "plt.ylabel('True Positive Rate')\n",
    "plt.title('AUC Curve')\n",
    "roc_auc_score(y_test,pos_probabs)"
   ]
  },
  {
   "cell_type": "code",
   "execution_count": null,
   "id": "c165c38b",
   "metadata": {},
   "outputs": [],
   "source": []
  }
 ],
 "metadata": {
  "kernelspec": {
   "display_name": "Python 3",
   "language": "python",
   "name": "python3"
  },
  "language_info": {
   "codemirror_mode": {
    "name": "ipython",
    "version": 3
   },
   "file_extension": ".py",
   "mimetype": "text/x-python",
   "name": "python",
   "nbconvert_exporter": "python",
   "pygments_lexer": "ipython3",
   "version": "3.8.8"
  }
 },
 "nbformat": 4,
 "nbformat_minor": 5
}
